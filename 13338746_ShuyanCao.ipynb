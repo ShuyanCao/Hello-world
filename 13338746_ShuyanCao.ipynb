{
  "nbformat": 4,
  "nbformat_minor": 0,
  "metadata": {
    "colab": {
      "name": "13338746_ShuyanCao.ipynb",
      "version": "0.3.2",
      "provenance": [],
      "include_colab_link": true
    },
    "kernelspec": {
      "name": "python3",
      "display_name": "Python 3"
    }
  },
  "cells": [
    {
      "cell_type": "markdown",
      "metadata": {
        "id": "view-in-github",
        "colab_type": "text"
      },
      "source": [
        "<a href=\"https://colab.research.google.com/github/ShuyanCao/Hello-world/blob/master/13338746_ShuyanCao.ipynb\" target=\"_parent\"><img src=\"https://colab.research.google.com/assets/colab-badge.svg\" alt=\"Open In Colab\"/></a>"
      ]
    },
    {
      "cell_type": "code",
      "metadata": {
        "id": "cz2gIdfbikqR",
        "colab_type": "code",
        "colab": {}
      },
      "source": [
        ""
      ],
      "execution_count": 0,
      "outputs": []
    },
    {
      "cell_type": "markdown",
      "metadata": {
        "id": "9XIbMOlf1Vee",
        "colab_type": "text"
      },
      "source": [
        "# **Machine Learning**\n",
        "# **PCA / LDA in Image Processing** \n",
        "\n",
        "**Written by: Shuyan Cao**\n",
        "\n",
        "**Student ID: 13338746**\n",
        "\n",
        "---\n",
        "###**1. Introduction**\n",
        "\n",
        "    Face recognition means to obtain the user's face image through video acquisition equipment, and then calculate and analyze the position, face shape and Angle of the face with the core algorithm, and then compare with the existing template in its own database to determine the user's true identity. Face recognition technology based on local feature area single training sample face recognition method. This application mode is applicable to access control, entry and exit clearance, network real-name system, certification agencies and other application places. The aim of this essay is mainly to explore a paper, written by Belhumeur, Hespanha and Kriegman, which comprehensively analyze and compare four approach of face recognition algorithm.\n",
        "###**2. Content**\n",
        "\n",
        "    According this paper, it can be easily identified that Existing facial recognition technologies face the challenge of limited accuracy due to different light sources and different facial expressions. The purpose of this paper is to compare the different core algorithm of face recognition and introduce a new method – Fisherface which based on Fisher’s linear discriminant. The Fisherface method proposed by the author can cope with facial recognition well under the condition of light changes, for instance, changes in light intensity, number of light sources, and direction. It also does limited recognition of the changes of facial expressions. In this article, authors use training set to identify different faces in test set. Four methods are compared: Correlation, Eigenfaces, Linear Subspaces and Fisherfaces. Both their advantages and disadvantages are discussed.\n",
        "    Primarily, the Correlation method, which is the simplest strategy among the nearest neighbor’s algorithm. Firstly, all images are normalized in the process, and then the distances between test image and each image in the learning set are calculated. Finally, labeled face image closest to test image is found, and the label of this picture is regarded as the category of test image. The second method that's mentioned and is a pretty common way is Eigenfaces which based on Principal Component Analysis (PCA), and the main idea is a strategy for reducing dimensions. The third method is Linear Subspaces using photometric stereo, take pictures of three Lambertian surfaces with different light orientations at fixed angles. Finally, comparing with the Eigenfaces method, the Fisherfaces method tries to modify the form of scatter to better represent the differences in images between classes, rather than within classes.\n",
        "    In this paper, through the variable illumination, different range of condition and Glasses Recognition, three groups of experiments compared the performance of the four algorithms.\n",
        "\n",
        "###**3. Innovation**\n",
        "###  1) Fisher’s Linear Discriminant Analysis (LDA)\n",
        "\n",
        "    In this research paper, these authors introduce a new approach to deal with the problem of face recognition under different lighting condition which called Fisherfaces algorithm. It is based on Fisher’s Linear Discriminant Analysis (LDA). By contrast, PCA is different with LDA in following four aspects. Firstly, application is different. LDA can be used as an independent linear classifier, but PCA can only be used as preprocessing. Second, learning method is different. LDA is supervised while PCA is unsupervised. Third, aim is different. The LDA provides samples with optimal separability in space while PCA provides samples to maintain the original variable information in space. Finally, process is different. The LDA makes sure that within-class scatter is as close as possible, while between-class scatter is as far away as possible.\n",
        "    According to Belhumeur, Hespanha, & Kriegman (1997, p.713), there are two kinds of scatter, between-class scatter (SB Fig.1) that is vital to classification and within-class scatter (Sw Fig.2) that is useless information. The approach by which Fisherface makes Sw in the class nonsingular is to project the image into a low-dimensional space.\n",
        "![alt text](https://github.com/ShuyanCao/Hello-world/blob/master/1.png?raw=true)  \n",
        "        \n",
        "        Figure. 1. Between-class scatter matrix\n",
        "![alt text](https://github.com/ShuyanCao/Hello-world/blob/master/2.png?raw=true)\n",
        "\n",
        "        Figure. 2. Within-class scatter matrix\n",
        "###  2) Comparison of four face recognition methods\n",
        "\n",
        "    They also compare Fisherfaces with other three approaches, described by Correlation method, Eigenfaces technique and Linear Subspaces method respectively. They each have their own demerits:\n",
        "\n",
        "    a) Correlation\n",
        "\n",
        "    i. It is difficult to distinguish images from different light sources;\n",
        "  \n",
        "    ii. Test set and training set are associated respectively, which takes a long time;\n",
        "  \n",
        "    iii. The large number of photos each person has requires more storage.\n",
        "\n",
        "    b) Eigenfaces:\n",
        "\n",
        "    i. Within-class scatter affect accuracy;\n",
        "   \n",
        "    ii. The accuracy is low under different lighting conditions.\n",
        "\n",
        "    c) Linear Subspaces:\n",
        "\n",
        "    i. Each person keeps at least three images in memory;\n",
        "  \n",
        "    ii. There is variability of human face under different light sources, so it is necessary to distinguish the good or bad face recognition of each face region;\n",
        "  \n",
        "    iii. It takes a lot of time to measure how far each person is from the line space.\n",
        "###**4. Technical quality**\n",
        "\n",
        "    This paper groundbreakingly proposes an excellent face recognition algorithm – Fisherface algorithm, and compared with other algorithms, the experiment is carried out. However, the experimental method is still not truly comprehensive. One of the important reasons is to ignore the comparison of different size of training set. According to Shiguang et al. (2002), although the Fisherface algorithm has many advantages, but it is well known that Fisherface cannot be applied to face recognition problems where each person can only get one training image, such as face photo matching, suspect identification. When the training data set is small, PCA can perform better than LDA, and the sensitivity of PCA to different training data sets is also low (Martínez & Kak 2001, p.228). However, this article only tests large data sets, and ignores the comparison with fewer images. On the other hand, the images used in the facial wear only involve transparent glasses, which can be improved. As is shown in Fig. 3, adding sunglasses and partial face masking images in the comparing test like the paper written by Martínez & Kak. Finally, the article lacks consideration of gender factors. A more comprehensive consideration would be to randomly select the same number of both male and female individuals from the data set.\n",
        "    \n",
        "![alt text](https://github.com/ShuyanCao/Hello-world/blob/master/2019_8_26__%20_z뮰_.jpg?raw=true) \n",
        "\n",
        "        Figure. 3. Images from Martínez & Kak (2001).\n",
        "###**5. Application and X-factor**\n",
        " \n",
        "    In recent years, facial recognition algorithms are more and more mature and widely used. Although there is a lack of accuracy in different facial expressions and different facial wearables, and small training sets are sometimes not as good as PCA. Fisher's algorithm applying in Fisherfaces is a big step forward in the field of facial recognition. Till now, LDA is frequently used in many industries. For instance, using Fisherfaces to determine the driver position (Lakshmanan et al. 2001) and system of check on work attendance etc. However, current technologies can be used for comparison and recognition in static images. In the future, multiple algorithms could be combined to achieve real-time face comparison and recognition.\n",
        "###**6. Presentation**\n",
        "\n",
        "    All in all, even though the experimental part is not comprehensive, the quality of this article is still very high. First, the author innovatively proposed the application of Fisher algorithm in the field of facial recognition. At the same time, he compared the experiment with other three mainstream facial recognition algorithms, and the experimental steps were also rigorous. In the experiment, the image in the data set is taken as an example to make the article more understandable.\n",
        "###**7. Reference**\n",
        "\n",
        "    [1]Belhumeur, P.N., Hespanha, J.P. & Kriegman, D.J. 1997, 'Eigenfaces vs. fisherfaces: Recognition using class specific linear projection', IEEE Transactions on Pattern Analysis & Machine Intelligence, no. 7, pp. 711-20.\n",
        "\n",
        "    [2]Martínez, A.M. & Kak, A.C. 2001, 'Pca versus lda', IEEE transactions on pattern analysis and machine intelligence, vol. 23, no. 2, pp. 228-33.\n",
        "\n",
        "    [3]Shiguang, S., Bo, C., Wen, G. & Debin, Z. 2002, 'Extended Fisherface for face recognition from a single example image per person', vol. 2, pp. II-II.\n",
        "\n",
        "    [4]Lakshmanan, S., Watta, P., Yu Lin, H. & Gandhi, N. 2001, 'Comparison between eigenfaces and Fisherfaces for estimating driver pose', pp. 889-94."
      ]
    }
  ]
}